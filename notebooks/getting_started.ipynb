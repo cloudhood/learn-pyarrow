{
  "nbformat": 4,
  "nbformat_minor": 0,
  "metadata": {
    "colab": {
      "provenance": [],
      "authorship_tag": "ABX9TyMdJ27Xw1FuUuEpryan4MQe",
      "include_colab_link": true
    },
    "kernelspec": {
      "name": "python3",
      "display_name": "Python 3"
    },
    "language_info": {
      "name": "python"
    }
  },
  "cells": [
    {
      "cell_type": "markdown",
      "metadata": {
        "id": "view-in-github",
        "colab_type": "text"
      },
      "source": [
        "<a href=\"https://colab.research.google.com/github/cloudhood/learn-pyarrow/blob/main/notebooks/getting_started.ipynb\" target=\"_parent\"><img src=\"https://colab.research.google.com/assets/colab-badge.svg\" alt=\"Open In Colab\"/></a>"
      ]
    },
    {
      "cell_type": "code",
      "source": [
        "!pip install pyarrow"
      ],
      "metadata": {
        "colab": {
          "base_uri": "https://localhost:8080/"
        },
        "id": "Ed0xDC768Cwa",
        "outputId": "e3115ac0-11cd-4dab-b67d-3917dd798634"
      },
      "execution_count": 1,
      "outputs": [
        {
          "output_type": "stream",
          "name": "stdout",
          "text": [
            "Looking in indexes: https://pypi.org/simple, https://us-python.pkg.dev/colab-wheels/public/simple/\n",
            "Requirement already satisfied: pyarrow in /usr/local/lib/python3.8/dist-packages (9.0.0)\n",
            "Requirement already satisfied: numpy>=1.16.6 in /usr/local/lib/python3.8/dist-packages (from pyarrow) (1.21.6)\n"
          ]
        }
      ]
    },
    {
      "cell_type": "code",
      "source": [
        "import pyarrow as pa\n",
        "import pyarrow.parquet as pq"
      ],
      "metadata": {
        "id": "fEZdxSaB8Evj"
      },
      "execution_count": 2,
      "outputs": []
    },
    {
      "cell_type": "code",
      "source": [
        "# pa arrays are collections of data of uniform type, like numpy.\n",
        "days = pa.array([1, 12, 17, 23, 28], type=pa.int8())\n",
        "months = pa.array([1, 3, 5, 7, 1], type=pa.int8())\n",
        "years = pa.array([1990, 2000, 1995, 2000, 1995], type=pa.int16())\n",
        "birthdays_table = pa.table(\n",
        "    [days, months, years], \n",
        "    names=[\"days\", \"months\", \"years\"]\n",
        ")\n",
        "birthdays_table"
      ],
      "metadata": {
        "colab": {
          "base_uri": "https://localhost:8080/"
        },
        "id": "tvkl0VqO8OnY",
        "outputId": "744c1bb5-157b-43aa-a62e-64188b8fcafd"
      },
      "execution_count": 5,
      "outputs": [
        {
          "output_type": "execute_result",
          "data": {
            "text/plain": [
              "pyarrow.Table\n",
              "days: int8\n",
              "months: int8\n",
              "years: int16\n",
              "----\n",
              "days: [[1,12,17,23,28]]\n",
              "months: [[1,3,5,7,1]]\n",
              "years: [[1990,2000,1995,2000,1995]]"
            ]
          },
          "metadata": {},
          "execution_count": 5
        }
      ]
    },
    {
      "cell_type": "code",
      "source": [
        "pq.write_table(birthdays_table, 'birthdays.parquet')\n",
        "reloaded_birthdays = pq.read_table('birthdays.parquet')\n",
        "reloaded_birthdays"
      ],
      "metadata": {
        "colab": {
          "base_uri": "https://localhost:8080/"
        },
        "id": "Q4K8pkim8i7v",
        "outputId": "579c7b97-8c69-4a30-d9ac-2d3bd69e1405"
      },
      "execution_count": 9,
      "outputs": [
        {
          "output_type": "execute_result",
          "data": {
            "text/plain": [
              "pyarrow.Table\n",
              "days: int8\n",
              "months: int8\n",
              "years: int16\n",
              "----\n",
              "days: [[1,12,17,23,28]]\n",
              "months: [[1,3,5,7,1]]\n",
              "years: [[1990,2000,1995,2000,1995]]"
            ]
          },
          "metadata": {},
          "execution_count": 9
        }
      ]
    },
    {
      "cell_type": "code",
      "source": [
        "## Compute functions\n",
        "import pyarrow.compute as pc\n",
        "pc.value_counts(birthdays_table['years'])"
      ],
      "metadata": {
        "colab": {
          "base_uri": "https://localhost:8080/"
        },
        "id": "soNVa72X8tlf",
        "outputId": "ecbec077-f4e4-4a67-90f8-d7fe7e4279b2"
      },
      "execution_count": 10,
      "outputs": [
        {
          "output_type": "execute_result",
          "data": {
            "text/plain": [
              "<pyarrow.lib.StructArray object at 0x7f6cb5185220>\n",
              "-- is_valid: all not null\n",
              "-- child 0 type: int16\n",
              "  [\n",
              "    1990,\n",
              "    2000,\n",
              "    1995\n",
              "  ]\n",
              "-- child 1 type: int64\n",
              "  [\n",
              "    1,\n",
              "    2,\n",
              "    2\n",
              "  ]"
            ]
          },
          "metadata": {},
          "execution_count": 10
        }
      ]
    },
    {
      "cell_type": "code",
      "source": [
        "## Working with large data - partition into smaller chunks\n",
        "import pyarrow.dataset as ds\n",
        "ds.write_dataset(\n",
        "    birthdays_table, \n",
        "    \"savedir\", \n",
        "    format=\"parquet\",\n",
        "    existing_data_behavior='delete_matching',\n",
        "    partitioning=ds.partitioning(\n",
        "        pa.schema([birthdays_table.schema.field(\"years\")])\n",
        "    )\n",
        ")\n",
        "birthdays_dataset = ds.dataset(\"savedir\", format=\"parquet\", partitioning=[\"years\"])\n",
        "print(birthdays_dataset.files)\n",
        "\n",
        "## Lazy load on each iteration\n",
        "import datetime\n",
        "current_year = datetime.datetime.utcnow().year\n",
        "for table_chunk in birthdays_dataset.to_batches():\n",
        "    print(\"AGES\", pc.subtract(current_year, table_chunk[\"years\"]))"
      ],
      "metadata": {
        "colab": {
          "base_uri": "https://localhost:8080/"
        },
        "id": "0t6JAVN_9atn",
        "outputId": "a8795bfc-0b03-4f64-f97e-736575909a64"
      },
      "execution_count": 18,
      "outputs": [
        {
          "output_type": "stream",
          "name": "stdout",
          "text": [
            "['savedir/1990/part-0.parquet', 'savedir/1995/part-0.parquet', 'savedir/2000/part-0.parquet']\n",
            "AGES [\n",
            "  33\n",
            "]\n",
            "AGES [\n",
            "  28,\n",
            "  28\n",
            "]\n",
            "AGES [\n",
            "  23,\n",
            "  23\n",
            "]\n"
          ]
        }
      ]
    }
  ]
}